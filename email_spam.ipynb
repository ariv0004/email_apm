{
 "cells": [
  {
   "cell_type": "markdown",
   "metadata": {},
   "source": [
    "# Task 2 Email Spam"
   ]
  },
  {
   "cell_type": "code",
   "execution_count": 4,
   "metadata": {},
   "outputs": [
    {
     "name": "stdout",
     "output_type": "stream",
     "text": [
      "Collecting xlrd\n",
      "  Using cached xlrd-1.2.0-py2.py3-none-any.whl (103 kB)\n",
      "Installing collected packages: xlrd\n",
      "Successfully installed xlrd-1.2.0\n"
     ]
    }
   ],
   "source": [
    "# import package\n",
    "!pip install xlrd\n",
    "import nltk\n",
    "import pandas as pd\n",
    "import re\n",
    "import nltk.data\n",
    "from nltk.collocations import *\n",
    "from nltk.tokenize import RegexpTokenizer\n",
    "from nltk.stem import PorterStemmer\n",
    "import numpy as np\n",
    "import string\n",
    "import matplotlib.pyplot as plt\n",
    "from nltk.probability import *\n",
    "from nltk.corpus import stopwords\n",
    "from itertools import chain\n",
    "import seaborn as sns"
   ]
  },
  {
   "cell_type": "code",
   "execution_count": 5,
   "metadata": {},
   "outputs": [
    {
     "data": {
      "text/html": [
       "<div>\n",
       "<style scoped>\n",
       "    .dataframe tbody tr th:only-of-type {\n",
       "        vertical-align: middle;\n",
       "    }\n",
       "\n",
       "    .dataframe tbody tr th {\n",
       "        vertical-align: top;\n",
       "    }\n",
       "\n",
       "    .dataframe thead th {\n",
       "        text-align: right;\n",
       "    }\n",
       "</style>\n",
       "<table border=\"1\" class=\"dataframe\">\n",
       "  <thead>\n",
       "    <tr style=\"text-align: right;\">\n",
       "      <th></th>\n",
       "      <th>Comment</th>\n",
       "      <th>Class</th>\n",
       "    </tr>\n",
       "  </thead>\n",
       "  <tbody>\n",
       "    <tr>\n",
       "      <th>0</th>\n",
       "      <td>this song is racist</td>\n",
       "      <td>0</td>\n",
       "    </tr>\n",
       "    <tr>\n",
       "      <th>1</th>\n",
       "      <td>and how many subscribers compared to her over ...</td>\n",
       "      <td>1</td>\n",
       "    </tr>\n",
       "    <tr>\n",
       "      <th>2</th>\n",
       "      <td>HI! CHECK OUT OUR AWESOME COVERS! AND SAY WHAT...</td>\n",
       "      <td>1</td>\n",
       "    </tr>\n",
       "    <tr>\n",
       "      <th>3</th>\n",
       "      <td>well done shakira</td>\n",
       "      <td>0</td>\n",
       "    </tr>\n",
       "    <tr>\n",
       "      <th>4</th>\n",
       "      <td>:D subscribe to me for daily vines</td>\n",
       "      <td>1</td>\n",
       "    </tr>\n",
       "    <tr>\n",
       "      <th>...</th>\n",
       "      <td>...</td>\n",
       "      <td>...</td>\n",
       "    </tr>\n",
       "    <tr>\n",
       "      <th>1295</th>\n",
       "      <td>Awsome&lt;br /&gt;﻿</td>\n",
       "      <td>0</td>\n",
       "    </tr>\n",
       "    <tr>\n",
       "      <th>1296</th>\n",
       "      <td>https://www.tsu.co/KodysMan plz ^^﻿</td>\n",
       "      <td>1</td>\n",
       "    </tr>\n",
       "    <tr>\n",
       "      <th>1297</th>\n",
       "      <td>Sign up for free on TSU and start making money...</td>\n",
       "      <td>1</td>\n",
       "    </tr>\n",
       "    <tr>\n",
       "      <th>1298</th>\n",
       "      <td>MEGAN FOX AND EMINEM TOGETHER IN A VIDEO  DOES...</td>\n",
       "      <td>0</td>\n",
       "    </tr>\n",
       "    <tr>\n",
       "      <th>1299</th>\n",
       "      <td>Great.This is a song﻿</td>\n",
       "      <td>0</td>\n",
       "    </tr>\n",
       "  </tbody>\n",
       "</table>\n",
       "<p>1300 rows × 2 columns</p>\n",
       "</div>"
      ],
      "text/plain": [
       "                                                Comment  Class\n",
       "0                                   this song is racist      0\n",
       "1     and how many subscribers compared to her over ...      1\n",
       "2     HI! CHECK OUT OUR AWESOME COVERS! AND SAY WHAT...      1\n",
       "3                                     well done shakira      0\n",
       "4                    :D subscribe to me for daily vines      1\n",
       "...                                                 ...    ...\n",
       "1295                                      Awsome<br />﻿      0\n",
       "1296                https://www.tsu.co/KodysMan plz ^^﻿      1\n",
       "1297  Sign up for free on TSU and start making money...      1\n",
       "1298  MEGAN FOX AND EMINEM TOGETHER IN A VIDEO  DOES...      0\n",
       "1299                              Great.This is a song﻿      0\n",
       "\n",
       "[1300 rows x 2 columns]"
      ]
     },
     "execution_count": 5,
     "metadata": {},
     "output_type": "execute_result"
    }
   ],
   "source": [
    "# load the file from excel and turn them into an dataframe\n",
    "excel_df = pd.ExcelFile(\"Comment Spam.xls\")\n",
    "df = excel_df.parse(0)[[\"Comment\", \"Class\"]]\n",
    "df"
   ]
  },
  {
   "cell_type": "code",
   "execution_count": 6,
   "metadata": {},
   "outputs": [
    {
     "data": {
      "text/plain": [
       "<matplotlib.axes._subplots.AxesSubplot at 0x2281d610a90>"
      ]
     },
     "execution_count": 6,
     "metadata": {},
     "output_type": "execute_result"
    },
    {
     "data": {
      "image/png": "[encoded data removed]",
      "text/plain": [
       "<Figure size 432x288 with 1 Axes>"
      ]
     },
     "metadata": {
      "needs_background": "light"
     },
     "output_type": "display_data"
    }
   ],
   "source": [
    "# count and plot the spam email and non spam email\n",
    "df.groupby(\"Class\").count().plot.bar()"
   ]
  },
  {
   "cell_type": "markdown",
   "metadata": {},
   "source": [
    "We can see that there are a lot of email spam in the data. next we will be classify the sentences"
   ]
  },
  {
   "cell_type": "markdown",
   "metadata": {},
   "source": [
    "## Classify the words"
   ]
  },
  {
   "cell_type": "markdown",
   "metadata": {},
   "source": [
    "Doing the same process for cleaning the text data using several regular expression, stemming, delete stop word, and replace punctuation"
   ]
  },
  {
   "cell_type": "code",
   "execution_count": 7,
   "metadata": {},
   "outputs": [],
   "source": [
    "stop = stopwords.words('english')\n",
    "stemmer = PorterStemmer()\n",
    "# use regular experssion and get the token using the regular expression \n",
    "\n",
    "tokenizer = RegexpTokenizer(r\"[a-zA-Z]+(?:[-'][a-zA-Z]+)?\")\n",
    "df[\"Comment\"] = df[\"Comment\"].apply(tokenizer.tokenize)\\\n",
    "    .apply(lambda x: [item for item in x if item not in stop])\\\n",
    "    .apply(lambda x: [stemmer.stem(y.lower()) for y in x]).apply(' '.join)\\\n",
    "    .str.replace('[^\\w\\s]','')"
   ]
  },
  {
   "cell_type": "markdown",
   "metadata": {},
   "source": [
    "We will be using 2 different kind of model which are logistic model and naive bayes classifier"
   ]
  },
  {
   "cell_type": "code",
   "execution_count": 8,
   "metadata": {},
   "outputs": [],
   "source": [
    "from sklearn.model_selection import train_test_split\n",
    "from sklearn.linear_model import LogisticRegression\n",
    "from sklearn.metrics import accuracy_score\n",
    "from sklearn.feature_extraction.text import CountVectorizer\n",
    "from sklearn.feature_extraction.text import TfidfTransformer\n",
    "from sklearn.naive_bayes import MultinomialNB\n",
    "from sklearn import metrics\n",
    "import random\n",
    "\n",
    "# split the data into train and test\n",
    "random.seed(10)\n",
    "msg_train, msg_test, spam_nospam_train, spam_nospam_test = train_test_split(df['Comment'], \n",
    "                                                        df['Class'], test_size=0.3, random_state=20)\n",
    "count_vect = CountVectorizer()\n",
    "# Convert a collection of text documents to a matrix of token counts\n",
    "X_train_counts = count_vect.fit_transform(msg_train)\n",
    "tfidf_transformer = TfidfTransformer()\n",
    "# Transform a count matrix to a normalized tf or tf-idf representation\n",
    "X_train_tfidf = tfidf_transformer.fit_transform(X_train_counts)\n",
    "# fit with logistic model\n",
    "logit = LogisticRegression()\n",
    "spam_model = logit.fit(X_train_tfidf, spam_nospam_train)"
   ]
  },
  {
   "cell_type": "code",
   "execution_count": 9,
   "metadata": {},
   "outputs": [
    {
     "name": "stdout",
     "output_type": "stream",
     "text": [
      "Accuracy of predicting test data : 0.9230769230769231\n",
      "Accuracy of predicting train data : 0.9769230769230769\n"
     ]
    },
    {
     "data": {
      "image/png": "[encoded data removed]",
      "text/plain": [
       "<Figure size 432x288 with 2 Axes>"
      ]
     },
     "metadata": {},
     "output_type": "display_data"
    }
   ],
   "source": [
    "# predict using logistic\n",
    "pred_test = spam_model.predict(tfidf_transformer.fit_transform(count_vect.transform(msg_test)))\n",
    "pred_train = spam_model.predict(tfidf_transformer.fit_transform(count_vect.transform(msg_train)))\n",
    "print(\"Accuracy of predicting test data :\",accuracy_score(spam_nospam_test, pred_test))\n",
    "print(\"Accuracy of predicting train data :\",accuracy_score(spam_nospam_train, pred_train))\n",
    "# create the confusion matrix\n",
    "array = metrics.confusion_matrix(spam_nospam_test, pred_test)\n",
    "df_cm = pd.DataFrame(array, [\"Spam\",\"Non_spam\"], [\"Spam\",\"Non_spam\"])\n",
    "sns.set(font_scale=1.4)#for label size \n",
    "sns.heatmap(df_cm, annot=True,annot_kws={\"size\": 16})# font size\n",
    "plt.show()"
   ]
  },
  {
   "cell_type": "markdown",
   "metadata": {},
   "source": [
    "Using the logistic regression we can see that there are 30 texts that miss"
   ]
  },
  {
   "cell_type": "code",
   "execution_count": 10,
   "metadata": {},
   "outputs": [
    {
     "name": "stdout",
     "output_type": "stream",
     "text": [
      "Accuracy of predicting train data : 0.9648351648351648\n",
      "Accuracy of predicting test data : 0.8897435897435897\n"
     ]
    },
    {
     "data": {
      "image/png": "[encoded data removed]",
      "text/plain": [
       "<Figure size 432x288 with 2 Axes>"
      ]
     },
     "metadata": {},
     "output_type": "display_data"
    }
   ],
   "source": [
    "# fit with naive bayes classifier model\n",
    "spam_model_naive = MultinomialNB().fit(X_train_tfidf, spam_nospam_train)\n",
    "pred_train = spam_model_naive.predict(tfidf_transformer.fit_transform(count_vect.transform(msg_train)))\n",
    "print(\"Accuracy of predicting train data :\", accuracy_score(spam_nospam_train, pred_train))\n",
    "pred_test = spam_model_naive.predict(tfidf_transformer.fit_transform(count_vect.transform(msg_test)))\n",
    "print(\"Accuracy of predicting test data :\", accuracy_score(spam_nospam_test, pred_test))\n",
    "# create the confusion matrix\n",
    "array = metrics.confusion_matrix(spam_nospam_test, pred_test)\n",
    "df_cm = pd.DataFrame(array, [\"Spam\",\"Non_spam\"], [\"Spam\",\"Non_spam\"])\n",
    "sns.set(font_scale=1.4)#for label size \n",
    "sns.heatmap(df_cm, annot=True,annot_kws={\"size\": 16})# font size\n",
    "plt.show()"
   ]
  },
  {
   "cell_type": "markdown",
   "metadata": {},
   "source": [
    "Using the naive bayes we can see that there are 43 texts that miss"
   ]
  },
  {
   "cell_type": "code",
   "execution_count": 11,
   "metadata": {},
   "outputs": [],
   "source": [
    "# predict using logistic regression\n",
    "def predicted_spam_log(word):\n",
    "    dict_string = eval(word)\n",
    "    word = dict_string[\"text\"]\n",
    "    sentence = [word]\n",
    "    df_word = pd.DataFrame(sentence)[0].apply(tokenizer.tokenize)\\\n",
    "    .apply(lambda x: [item for item in x if item not in stop])\\\n",
    "    .apply(lambda x: [stemmer.stem(y.lower()) for y in x]).apply(' '.join)\\\n",
    "    .str.replace('[^\\w\\s]','')\n",
    "    predict_log = spam_model.predict(tfidf_transformer.fit_transform(count_vect.transform(df_word)))\n",
    "    if predict_log[0] == 1:\n",
    "        result = \"Spam\"\n",
    "    else:\n",
    "        result = \"Non Spam\"\n",
    "    return result"
   ]
  },
  {
   "cell_type": "code",
   "execution_count": 12,
   "metadata": {},
   "outputs": [],
   "source": [
    "# predict using naive bayes\n",
    "def predicted_spam_naive(word):\n",
    "    dict_string = eval(word)\n",
    "    word = dict_string[\"text\"]\n",
    "    sentence = [word]\n",
    "    df_word = pd.DataFrame(sentence)[0].apply(tokenizer.tokenize)\\\n",
    "    .apply(lambda x: [item for item in x if item not in stop])\\\n",
    "    .apply(lambda x: [stemmer.stem(y.lower()) for y in x]).apply(' '.join)\\\n",
    "    .str.replace('[^\\w\\s]','')\n",
    "    predict_naive = spam_model_naive.predict(tfidf_transformer.fit_transform(count_vect.transform(df_word)))\n",
    "    if predict_naive[0] == 1:\n",
    "        result = \"Spam\"\n",
    "    else:\n",
    "        result = \"Non Spam\"\n",
    "    return result"
   ]
  },
  {
   "cell_type": "code",
   "execution_count": 13,
   "metadata": {},
   "outputs": [
    {
     "name": "stdout",
     "output_type": "stream",
     "text": [
      "write a sentence: {\"text\" :\"Find out how i make $20 Million/year online with these easy steps !\", \"type\":\"comment\"}\n"
     ]
    },
    {
     "data": {
      "text/plain": [
       "'Spam'"
      ]
     },
     "execution_count": 13,
     "metadata": {},
     "output_type": "execute_result"
    }
   ],
   "source": [
    "predicted_spam_naive(input(\"write a sentence: \"))"
   ]
  },
  {
   "cell_type": "code",
   "execution_count": 358,
   "metadata": {},
   "outputs": [
    {
     "name": "stdout",
     "output_type": "stream",
     "text": [
      "write a sentence: {\"text\" :\"Find out how i make $20 Million/year online with these easy steps !\", \"type\":\"comment\"}\n"
     ]
    },
    {
     "data": {
      "text/plain": [
       "'Non Spam'"
      ]
     },
     "execution_count": 358,
     "metadata": {},
     "output_type": "execute_result"
    }
   ],
   "source": [
    "predicted_spam_log(input(\"write a sentence: \"))"
   ]
  }
 ],
 "metadata": {
  "kernelspec": {
   "display_name": "Python 3",
   "language": "python",
   "name": "python3"
  }
 },
 "nbformat": 4,
 "nbformat_minor": 4
}
