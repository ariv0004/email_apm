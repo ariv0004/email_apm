{
 "cells": [
  {
   "cell_type": "markdown",
   "metadata": {},
   "source": [
    "# Task 2 Email Spam"
   ]
  },
  {
   "cell_type": "code",
   "execution_count": 8,
   "metadata": {},
   "outputs": [],
   "source": [
    "# import package\n",
    "\n",
    "import nltk\n",
    "import pandas as pd\n",
    "import re\n",
    "import nltk.data\n",
    "from nltk.collocations import *\n",
    "from nltk.tokenize import RegexpTokenizer\n",
    "from nltk.stem import PorterStemmer\n",
    "import numpy as np\n",
    "import string\n",
    "import matplotlib.pyplot as plt\n",
    "from nltk.probability import *\n",
    "from nltk.corpus import stopwords\n",
    "from itertools import chain\n",
    "import seaborn as sns"
   ]
  },
  {
   "cell_type": "code",
   "execution_count": 2,
   "metadata": {},
   "outputs": [
    {
     "data": {
      "text/html": [
       "<div>\n",
       "<style scoped>\n",
       "    .dataframe tbody tr th:only-of-type {\n",
       "        vertical-align: middle;\n",
       "    }\n",
       "\n",
       "    .dataframe tbody tr th {\n",
       "        vertical-align: top;\n",
       "    }\n",
       "\n",
       "    .dataframe thead th {\n",
       "        text-align: right;\n",
       "    }\n",
       "</style>\n",
       "<table border=\"1\" class=\"dataframe\">\n",
       "  <thead>\n",
       "    <tr style=\"text-align: right;\">\n",
       "      <th></th>\n",
       "      <th>Comment</th>\n",
       "      <th>Class</th>\n",
       "    </tr>\n",
       "  </thead>\n",
       "  <tbody>\n",
       "    <tr>\n",
       "      <th>0</th>\n",
       "      <td>this song is racist</td>\n",
       "      <td>0</td>\n",
       "    </tr>\n",
       "    <tr>\n",
       "      <th>1</th>\n",
       "      <td>and how many subscribers compared to her over ...</td>\n",
       "      <td>1</td>\n",
       "    </tr>\n",
       "    <tr>\n",
       "      <th>2</th>\n",
       "      <td>HI! CHECK OUT OUR AWESOME COVERS! AND SAY WHAT...</td>\n",
       "      <td>1</td>\n",
       "    </tr>\n",
       "    <tr>\n",
       "      <th>3</th>\n",
       "      <td>well done shakira</td>\n",
       "      <td>0</td>\n",
       "    </tr>\n",
       "    <tr>\n",
       "      <th>4</th>\n",
       "      <td>:D subscribe to me for daily vines</td>\n",
       "      <td>1</td>\n",
       "    </tr>\n",
       "    <tr>\n",
       "      <th>...</th>\n",
       "      <td>...</td>\n",
       "      <td>...</td>\n",
       "    </tr>\n",
       "    <tr>\n",
       "      <th>1295</th>\n",
       "      <td>Awsome&lt;br /&gt;﻿</td>\n",
       "      <td>0</td>\n",
       "    </tr>\n",
       "    <tr>\n",
       "      <th>1296</th>\n",
       "      <td>https://www.tsu.co/KodysMan plz ^^﻿</td>\n",
       "      <td>1</td>\n",
       "    </tr>\n",
       "    <tr>\n",
       "      <th>1297</th>\n",
       "      <td>Sign up for free on TSU and start making money...</td>\n",
       "      <td>1</td>\n",
       "    </tr>\n",
       "    <tr>\n",
       "      <th>1298</th>\n",
       "      <td>MEGAN FOX AND EMINEM TOGETHER IN A VIDEO  DOES...</td>\n",
       "      <td>0</td>\n",
       "    </tr>\n",
       "    <tr>\n",
       "      <th>1299</th>\n",
       "      <td>Great.This is a song﻿</td>\n",
       "      <td>0</td>\n",
       "    </tr>\n",
       "  </tbody>\n",
       "</table>\n",
       "<p>1300 rows × 2 columns</p>\n",
       "</div>"
      ],
      "text/plain": [
       "                                                Comment  Class\n",
       "0                                   this song is racist      0\n",
       "1     and how many subscribers compared to her over ...      1\n",
       "2     HI! CHECK OUT OUR AWESOME COVERS! AND SAY WHAT...      1\n",
       "3                                     well done shakira      0\n",
       "4                    :D subscribe to me for daily vines      1\n",
       "...                                                 ...    ...\n",
       "1295                                      Awsome<br />﻿      0\n",
       "1296                https://www.tsu.co/KodysMan plz ^^﻿      1\n",
       "1297  Sign up for free on TSU and start making money...      1\n",
       "1298  MEGAN FOX AND EMINEM TOGETHER IN A VIDEO  DOES...      0\n",
       "1299                              Great.This is a song﻿      0\n",
       "\n",
       "[1300 rows x 2 columns]"
      ]
     },
     "execution_count": 2,
     "metadata": {},
     "output_type": "execute_result"
    }
   ],
   "source": [
    "# load the file from excel and turn them into an dataframe\n",
    "excel_df = pd.ExcelFile(\"Comment Spam.xls\")\n",
    "df = excel_df.parse(0)[[\"Comment\", \"Class\"]]\n",
    "df"
   ]
  },
  {
   "cell_type": "code",
   "execution_count": 3,
   "metadata": {},
   "outputs": [
    {
     "data": {
      "text/plain": [
       "<matplotlib.axes._subplots.AxesSubplot at 0x11ccc179d30>"
      ]
     },
     "execution_count": 3,
     "metadata": {},
     "output_type": "execute_result"
    },
    {
     "data": {
      "image/png": "[encoded data removed]",
      "text/plain": [
       "<Figure size 432x288 with 1 Axes>"
      ]
     },
     "metadata": {
      "needs_background": "light"
     },
     "output_type": "display_data"
    }
   ],
   "source": [
    "# count and plot the spam email and non spam email\n",
    "df.groupby(\"Class\").count().plot.bar()"
   ]
  },
  {
   "cell_type": "markdown",
   "metadata": {},
   "source": [
    "We can see that there are a lot of email spam in the data. next we will be classify the sentences"
   ]
  },
  {
   "cell_type": "markdown",
   "metadata": {},
   "source": [
    "## Classify the words"
   ]
  },
  {
   "cell_type": "markdown",
   "metadata": {},
   "source": [
    "Doing the same process for cleaning the text data using several regular expression, stemming, delete stop word, and replace punctuation"
   ]
  },
  {
   "cell_type": "code",
   "execution_count": 9,
   "metadata": {},
   "outputs": [],
   "source": [
    "stop = stopwords.words('english')\n",
    "stemmer = PorterStemmer()\n",
    "# use regular experssion and get the token using the regular expression \n",
    "\n",
    "tokenizer = RegexpTokenizer(r\"[a-zA-Z]+(?:[-'][a-zA-Z]+)?\")\n",
    "df[\"Comment\"] = df[\"Comment\"].apply(tokenizer.tokenize)\\\n",
    "    .apply(lambda x: [item for item in x if item not in stop])\\\n",
    "    .apply(lambda x: [stemmer.stem(y.lower()) for y in x]).apply(' '.join)\\\n",
    "    .str.replace('[^\\w\\s]','')"
   ]
  },
  {
   "cell_type": "markdown",
   "metadata": {},
   "source": [
    "We will be using 2 different kind of model which are logistic model and naive bayes classifier"
   ]
  },
  {
   "cell_type": "code",
   "execution_count": 10,
   "metadata": {},
   "outputs": [],
   "source": [
    "from sklearn.model_selection import train_test_split\n",
    "from sklearn.linear_model import LogisticRegression\n",
    "from sklearn.metrics import accuracy_score\n",
    "from sklearn.feature_extraction.text import CountVectorizer\n",
    "from sklearn.feature_extraction.text import TfidfTransformer\n",
    "from sklearn.naive_bayes import MultinomialNB\n",
    "from sklearn import metrics\n",
    "import random\n",
    "\n",
    "# split the data into train and test\n",
    "random.seed(10)\n",
    "msg_train, msg_test, spam_nospam_train, spam_nospam_test = train_test_split(df['Comment'], \n",
    "                                                        df['Class'], test_size=0.3, random_state=20)\n",
    "count_vect = CountVectorizer()\n",
    "# Convert a collection of text documents to a matrix of token counts\n",
    "X_train_counts = count_vect.fit_transform(msg_train)\n",
    "tfidf_transformer = TfidfTransformer()\n",
    "# Transform a count matrix to a normalized tf or tf-idf representation\n",
    "X_train_tfidf = tfidf_transformer.fit_transform(X_train_counts)\n",
    "# fit with logistic model\n",
    "logit = LogisticRegression()\n",
    "spam_model = logit.fit(X_train_tfidf, spam_nospam_train)"
   ]
  },
  {
   "cell_type": "code",
   "execution_count": 11,
   "metadata": {},
   "outputs": [
    {
     "name": "stdout",
     "output_type": "stream",
     "text": [
      "Accuracy of predicting test data : 0.9179487179487179\n",
      "Accuracy of predicting train data : 0.9758241758241758\n"
     ]
    },
    {
     "data": {
      "image/png": "[encoded data removed]",
      "text/plain": [
       "<Figure size 432x288 with 2 Axes>"
      ]
     },
     "metadata": {},
     "output_type": "display_data"
    }
   ],
   "source": [
    "# predict using logistic\n",
    "pred_test = spam_model.predict(tfidf_transformer.fit_transform(count_vect.transform(msg_test)))\n",
    "pred_train = spam_model.predict(tfidf_transformer.fit_transform(count_vect.transform(msg_train)))\n",
    "print(\"Accuracy of predicting test data :\",accuracy_score(spam_nospam_test, pred_test))\n",
    "print(\"Accuracy of predicting train data :\",accuracy_score(spam_nospam_train, pred_train))\n",
    "# create the confusion matrix\n",
    "array = metrics.confusion_matrix(spam_nospam_test, pred_test)\n",
    "df_cm = pd.DataFrame(array, [\"Spam\",\"Non_spam\"], [\"Spam\",\"Non_spam\"])\n",
    "sns.set(font_scale=1.4)#for label size \n",
    "sns.heatmap(df_cm, annot=True,annot_kws={\"size\": 16})# font size\n",
    "plt.show()"
   ]
  },
  {
   "cell_type": "markdown",
   "metadata": {},
   "source": [
    "Using the logistic regression we can see that there are 30 texts that miss"
   ]
  },
  {
   "cell_type": "code",
   "execution_count": 13,
   "metadata": {},
   "outputs": [
    {
     "name": "stdout",
     "output_type": "stream",
     "text": [
      "Accuracy of predicting train data : 0.9692307692307692\n",
      "Accuracy of predicting test data : 0.882051282051282\n"
     ]
    },
    {
     "data": {
      "image/png": "[encoded data removed]",
      "text/plain": [
       "<Figure size 432x288 with 2 Axes>"
      ]
     },
     "metadata": {},
     "output_type": "display_data"
    }
   ],
   "source": [
    "# fit with naive bayes classifier model\n",
    "spam_model_naive = MultinomialNB().fit(X_train_tfidf, spam_nospam_train)\n",
    "pred_train = spam_model_naive.predict(tfidf_transformer.fit_transform(count_vect.transform(msg_train)))\n",
    "print(\"Accuracy of predicting train data :\", accuracy_score(spam_nospam_train, pred_train))\n",
    "pred_test = spam_model_naive.predict(tfidf_transformer.fit_transform(count_vect.transform(msg_test)))\n",
    "print(\"Accuracy of predicting test data :\", accuracy_score(spam_nospam_test, pred_test))\n",
    "# create the confusion matrix\n",
    "array = metrics.confusion_matrix(spam_nospam_test, pred_test)\n",
    "df_cm = pd.DataFrame(array, [\"Spam\",\"Non_spam\"], [\"Spam\",\"Non_spam\"])\n",
    "sns.set(font_scale=1.4)#for label size \n",
    "sns.heatmap(df_cm, annot=True,annot_kws={\"size\": 16})# font size\n",
    "plt.show()"
   ]
  },
  {
   "cell_type": "markdown",
   "metadata": {},
   "source": [
    "Using the naive bayes we can see that there are 43 texts that miss"
   ]
  },
  {
   "cell_type": "code",
   "execution_count": 14,
   "metadata": {},
   "outputs": [],
   "source": [
    "# predict using logistic regression\n",
    "def predicted_spam_log(word):\n",
    "    dict_string = eval(word)\n",
    "    word = dict_string[\"text\"]\n",
    "    sentence = [word]\n",
    "    df_word = pd.DataFrame(sentence)[0].apply(tokenizer.tokenize)\\\n",
    "    .apply(lambda x: [item for item in x if item not in stop])\\\n",
    "    .apply(lambda x: [stemmer.stem(y.lower()) for y in x]).apply(' '.join)\\\n",
    "    .str.replace('[^\\w\\s]','')\n",
    "    predict_log = spam_model.predict(tfidf_transformer.fit_transform(count_vect.transform(df_word)))\n",
    "    if predict_log[0] == 1:\n",
    "        result = \"Spam\"\n",
    "    else:\n",
    "        result = \"Non Spam\"\n",
    "    return result"
   ]
  },
  {
   "cell_type": "code",
   "execution_count": 15,
   "metadata": {},
   "outputs": [],
   "source": [
    "# predict using naive bayes\n",
    "def predicted_spam_naive(word):\n",
    "    dict_string = eval(word)\n",
    "    word = dict_string[\"text\"]\n",
    "    sentence = [word]\n",
    "    df_word = pd.DataFrame(sentence)[0].apply(tokenizer.tokenize)\\\n",
    "    .apply(lambda x: [item for item in x if item not in stop])\\\n",
    "    .apply(lambda x: [stemmer.stem(y.lower()) for y in x]).apply(' '.join)\\\n",
    "    .str.replace('[^\\w\\s]','')\n",
    "    predict_naive = spam_model_naive.predict(tfidf_transformer.fit_transform(count_vect.transform(df_word)))\n",
    "    if predict_naive[0] == 1:\n",
    "        result = \"Spam\"\n",
    "    else:\n",
    "        result = \"Non Spam\"\n",
    "    return result"
   ]
  },
  {
   "cell_type": "code",
   "execution_count": 16,
   "metadata": {},
   "outputs": [
    {
     "name": "stdout",
     "output_type": "stream",
     "text": [
      "write a sentence: \n"
     ]
    },
    {
     "ename": "SyntaxError",
     "evalue": "unexpected EOF while parsing (<string>, line 0)",
     "output_type": "error",
     "traceback": [
      "Traceback \u001b[1;36m(most recent call last)\u001b[0m:\n",
      "  File \u001b[0;32m\"C:\\Users\\USER\\anaconda3\\envs\\Pycharm\\lib\\site-packages\\IPython\\core\\interactiveshell.py\"\u001b[0m, line \u001b[0;32m3343\u001b[0m, in \u001b[0;35mrun_code\u001b[0m\n    exec(code_obj, self.user_global_ns, self.user_ns)\n",
      "  File \u001b[0;32m\"<ipython-input-16-1b7e1dcf3c5b>\"\u001b[0m, line \u001b[0;32m1\u001b[0m, in \u001b[0;35m<module>\u001b[0m\n    predicted_spam_naive(input(\"write a sentence: \"))\n",
      "\u001b[1;36m  File \u001b[1;32m\"<ipython-input-15-df4bc345deb0>\"\u001b[1;36m, line \u001b[1;32m3\u001b[1;36m, in \u001b[1;35mpredicted_spam_naive\u001b[1;36m\u001b[0m\n\u001b[1;33m    dict_string = eval(word)\u001b[0m\n",
      "\u001b[1;36m  File \u001b[1;32m\"<string>\"\u001b[1;36m, line \u001b[1;32munknown\u001b[0m\n\u001b[1;33m    \u001b[0m\n\u001b[1;37m    ^\u001b[0m\n\u001b[1;31mSyntaxError\u001b[0m\u001b[1;31m:\u001b[0m unexpected EOF while parsing\n"
     ]
    }
   ],
   "source": [
    "predicted_spam_naive(input(\"write a sentence: \"))"
   ]
  },
  {
   "cell_type": "code",
   "execution_count": 358,
   "metadata": {},
   "outputs": [
    {
     "name": "stdout",
     "output_type": "stream",
     "text": [
      "write a sentence: {\"text\" :\"Find out how i make $20 Million/year online with these easy steps !\", \"type\":\"comment\"}\n"
     ]
    },
    {
     "data": {
      "text/plain": [
       "'Non Spam'"
      ]
     },
     "execution_count": 358,
     "metadata": {},
     "output_type": "execute_result"
    }
   ],
   "source": [
    "predicted_spam_log(input(\"write a sentence: \"))"
   ]
  },
  {
   "cell_type": "markdown",
   "metadata": {},
   "source": [
    "## Create and app using Dash"
   ]
  },
  {
   "cell_type": "code",
   "execution_count": 359,
   "metadata": {},
   "outputs": [],
   "source": [
    "# !pip install dash\n",
    "# importing required libraries \n",
    "import dash \n",
    "import dash_core_components as dcc     \n",
    "import dash_html_components as html\n",
    "from dash.dependencies import Input, Output"
   ]
  },
  {
   "cell_type": "code",
   "execution_count": 360,
   "metadata": {},
   "outputs": [],
   "source": [
    "# create an dash application \n",
    "app = dash.Dash() \n",
    "  \n",
    "app.layout = html.Div(children =[ \n",
    "    dcc.Input(id ='input',  \n",
    "              value ='Enter a dictionary that can be classify',  \n",
    "              type ='text', style = dict(\n",
    "            width = '68%',\n",
    "            display = 'table-cell')), \n",
    "      \n",
    "    html.Div(id ='output') \n",
    "]) \n",
    "# create input and output\n",
    "@app.callback( \n",
    "    Output(component_id ='output', component_property ='children'), \n",
    "    [Input(component_id ='input', component_property ='value')] \n",
    ") \n",
    "# using this function to predict the dictionary\n",
    "def predicted_spam_log_test(input_data): \n",
    "    try:\n",
    "        dict_string = eval(input_data)\n",
    "        word = dict_string[\"text\"]\n",
    "        sentence = [input_data]\n",
    "        df_word = pd.DataFrame(sentence)[0].apply(tokenizer.tokenize)\\\n",
    "            .apply(lambda x: [item for item in x if item not in stop])\\\n",
    "            .apply(lambda x: [stemmer.stem(y.lower()) for y in x]).apply(' '.join)\\\n",
    "            .str.replace('[^\\w\\s]','')\n",
    "        predict_log = spam_model.predict(tfidf_transformer.fit_transform(count_vect.transform(df_word)))\n",
    "        if predict_log[0] == 1:\n",
    "            result = \"Spam\"\n",
    "        else:\n",
    "            result = \"Non Spam\"\n",
    "        return \"{prediction : \", result + \"}\"\n",
    "    except: \n",
    "        return \"Error, the input check the double quotes and other string\""
   ]
  },
  {
   "cell_type": "code",
   "execution_count": 361,
   "metadata": {},
   "outputs": [
    {
     "name": "stdout",
     "output_type": "stream",
     "text": [
      "Dash is running on http://127.0.0.1:8050/\n",
      "\n",
      "Dash is running on http://127.0.0.1:8050/\n",
      "\n",
      "Dash is running on http://127.0.0.1:8050/\n",
      "\n",
      "Dash is running on http://127.0.0.1:8050/\n",
      "\n",
      "Dash is running on http://127.0.0.1:8050/\n",
      "\n",
      "Dash is running on http://127.0.0.1:8050/\n",
      "\n",
      "Dash is running on http://127.0.0.1:8050/\n",
      "\n",
      "Dash is running on http://127.0.0.1:8050/\n",
      "\n",
      "Dash is running on http://127.0.0.1:8050/\n",
      "\n",
      "Dash is running on http://127.0.0.1:8050/\n",
      "\n",
      "Dash is running on http://127.0.0.1:8050/\n",
      "\n",
      "Dash is running on http://127.0.0.1:8050/\n",
      "\n",
      "Dash is running on http://127.0.0.1:8050/\n",
      "\n",
      " * Serving Flask app \"__main__\" (lazy loading)\n",
      " * Environment: production\n",
      "   WARNING: This is a development server. Do not use it in a production deployment.\n",
      "   Use a production WSGI server instead.\n",
      " * Debug mode: off\n"
     ]
    },
    {
     "name": "stderr",
     "output_type": "stream",
     "text": [
      " * Running on http://127.0.0.1:8050/ (Press CTRL+C to quit)\n",
      "127.0.0.1 - - [08/Sep/2020 21:59:31] \"\u001b[37mGET / HTTP/1.1\u001b[0m\" 200 -\n",
      "127.0.0.1 - - [08/Sep/2020 21:59:31] \"\u001b[37mGET /_dash-layout HTTP/1.1\u001b[0m\" 200 -\n",
      "127.0.0.1 - - [08/Sep/2020 21:59:31] \"\u001b[37mGET /_dash-dependencies HTTP/1.1\u001b[0m\" 200 -\n",
      "127.0.0.1 - - [08/Sep/2020 21:59:31] \"\u001b[37mPOST /_dash-update-component HTTP/1.1\u001b[0m\" 200 -\n",
      "127.0.0.1 - - [08/Sep/2020 21:59:42] \"\u001b[37mPOST /_dash-update-component HTTP/1.1\u001b[0m\" 200 -\n",
      "127.0.0.1 - - [08/Sep/2020 21:59:52] \"\u001b[37mPOST /_dash-update-component HTTP/1.1\u001b[0m\" 200 -\n"
     ]
    }
   ],
   "source": [
    "# open the dash link to input the dictionary\n",
    "if __name__ == '__main__': \n",
    "    app.run_server()"
   ]
  },
  {
   "cell_type": "code",
   "execution_count": 3,
   "metadata": {},
   "outputs": [
    {
     "name": "stdout",
     "output_type": "stream",
     "text": [
      "Requirement already satisfied: anvil-uplink in c:\\users\\user\\anaconda3\\envs\\pycharm\\lib\\site-packages (0.3.32)\n",
      "Requirement already satisfied: argparse in c:\\users\\user\\anaconda3\\envs\\pycharm\\lib\\site-packages (from anvil-uplink) (1.4.0)\n",
      "Requirement already satisfied: six in c:\\users\\user\\anaconda3\\envs\\pycharm\\lib\\site-packages (from anvil-uplink) (1.15.0)\n",
      "Requirement already satisfied: ws4py in c:\\users\\user\\anaconda3\\envs\\pycharm\\lib\\site-packages (from anvil-uplink) (0.5.1)\n",
      "Requirement already satisfied: future in c:\\users\\user\\anaconda3\\envs\\pycharm\\lib\\site-packages (from anvil-uplink) (0.18.2)\n"
     ]
    }
   ],
   "source": [
    "!pip install anvil-uplink"
   ]
  },
  {
   "cell_type": "code",
   "execution_count": 5,
   "metadata": {},
   "outputs": [
    {
     "ename": "AttributeError",
     "evalue": "module 'anvil' has no attribute 'LiveObject'",
     "output_type": "error",
     "traceback": [
      "\u001b[1;31m---------------------------------------------------------------------------\u001b[0m",
      "\u001b[1;31mAttributeError\u001b[0m                            Traceback (most recent call last)",
      "\u001b[1;32m<ipython-input-5-05a8de39d647>\u001b[0m in \u001b[0;36m<module>\u001b[1;34m\u001b[0m\n\u001b[1;32m----> 1\u001b[1;33m \u001b[1;32mimport\u001b[0m \u001b[0manvil\u001b[0m\u001b[1;33m.\u001b[0m\u001b[0mserver\u001b[0m\u001b[1;33m\u001b[0m\u001b[1;33m\u001b[0m\u001b[0m\n\u001b[0m\u001b[0;32m      2\u001b[0m \u001b[1;33m\u001b[0m\u001b[0m\n\u001b[0;32m      3\u001b[0m \u001b[0manvil\u001b[0m\u001b[1;33m.\u001b[0m\u001b[0mserver\u001b[0m\u001b[1;33m.\u001b[0m\u001b[0mconnect\u001b[0m\u001b[1;33m(\u001b[0m\u001b[1;34m\"23EYVSQEUSSH7ORKBZSCXSQK-Y5A54XMRFCWWIL3T\"\u001b[0m\u001b[1;33m)\u001b[0m\u001b[1;33m\u001b[0m\u001b[1;33m\u001b[0m\u001b[0m\n",
      "\u001b[1;32m~\\anaconda3\\envs\\Pycharm\\lib\\site-packages\\anvil\\server.py\u001b[0m in \u001b[0;36m<module>\u001b[1;34m\u001b[0m\n\u001b[0;32m      5\u001b[0m \u001b[1;33m\u001b[0m\u001b[0m\n\u001b[0;32m      6\u001b[0m \u001b[1;32mimport\u001b[0m \u001b[0manvil\u001b[0m\u001b[1;33m\u001b[0m\u001b[1;33m\u001b[0m\u001b[0m\n\u001b[1;32m----> 7\u001b[1;33m \u001b[1;32mfrom\u001b[0m \u001b[1;33m.\u001b[0m \u001b[1;32mimport\u001b[0m \u001b[0m_server\u001b[0m\u001b[1;33m,\u001b[0m \u001b[0m_serialise\u001b[0m\u001b[1;33m,\u001b[0m \u001b[0m_threaded_server\u001b[0m\u001b[1;33m\u001b[0m\u001b[1;33m\u001b[0m\u001b[0m\n\u001b[0m\u001b[0;32m      8\u001b[0m \u001b[1;32mfrom\u001b[0m \u001b[1;33m.\u001b[0m\u001b[0m_threaded_server\u001b[0m \u001b[1;32mimport\u001b[0m \u001b[0mlive_object_backend\u001b[0m\u001b[1;33m,\u001b[0m \u001b[0mLazyMedia\u001b[0m\u001b[1;33m,\u001b[0m \u001b[0m_switch_session\u001b[0m\u001b[1;33m,\u001b[0m \u001b[0mcall_context\u001b[0m \u001b[1;32mas\u001b[0m \u001b[0mcontext\u001b[0m\u001b[1;33m\u001b[0m\u001b[1;33m\u001b[0m\u001b[0m\n\u001b[0;32m      9\u001b[0m \u001b[1;33m\u001b[0m\u001b[0m\n",
      "\u001b[1;32m~\\anaconda3\\envs\\Pycharm\\lib\\site-packages\\anvil\\_server.py\u001b[0m in \u001b[0;36m<module>\u001b[1;34m\u001b[0m\n\u001b[0;32m     22\u001b[0m \u001b[0m_serialization_helpers\u001b[0m \u001b[1;33m=\u001b[0m \u001b[1;33m{\u001b[0m\u001b[1;33m}\u001b[0m \u001b[1;31m# {module_name: helper_fn}, entry removed once helper_fn has been run once.\u001b[0m\u001b[1;33m\u001b[0m\u001b[1;33m\u001b[0m\u001b[0m\n\u001b[0;32m     23\u001b[0m \u001b[1;33m\u001b[0m\u001b[0m\n\u001b[1;32m---> 24\u001b[1;33m \u001b[1;32mclass\u001b[0m \u001b[0mLiveObjectProxy\u001b[0m\u001b[1;33m(\u001b[0m\u001b[0manvil\u001b[0m\u001b[1;33m.\u001b[0m\u001b[0mLiveObject\u001b[0m\u001b[1;33m)\u001b[0m\u001b[1;33m:\u001b[0m\u001b[1;33m\u001b[0m\u001b[1;33m\u001b[0m\u001b[0m\n\u001b[0m\u001b[0;32m     25\u001b[0m \u001b[1;33m\u001b[0m\u001b[0m\n\u001b[0;32m     26\u001b[0m     \u001b[1;32mdef\u001b[0m \u001b[0m__init__\u001b[0m\u001b[1;33m(\u001b[0m\u001b[0mself\u001b[0m\u001b[1;33m,\u001b[0m\u001b[0mspec\u001b[0m\u001b[1;33m,\u001b[0m\u001b[0mknown_methods\u001b[0m\u001b[1;33m=\u001b[0m\u001b[1;32mNone\u001b[0m\u001b[1;33m)\u001b[0m\u001b[1;33m:\u001b[0m\u001b[1;33m\u001b[0m\u001b[1;33m\u001b[0m\u001b[0m\n",
      "\u001b[1;31mAttributeError\u001b[0m: module 'anvil' has no attribute 'LiveObject'"
     ]
    }
   ],
   "source": [
    "import anvil.server\n",
    "\n",
    "anvil.server.connect(\"23EYVSQEUSSH7ORKBZSCXSQK-Y5A54XMRFCWWIL3T\")"
   ]
  },
  {
   "cell_type": "code",
   "execution_count": null,
   "metadata": {},
   "outputs": [],
   "source": []
  },
  {
   "cell_type": "code",
   "execution_count": null,
   "metadata": {},
   "outputs": [],
   "source": []
  }
 ],
 "metadata": {
  "kernelspec": {
   "display_name": "Python 3",
   "language": "python",
   "name": "python3"
  },
  "language_info": {
   "codemirror_mode": {
    "name": "ipython",
    "version": 3
   },
   "file_extension": ".py",
   "mimetype": "text/x-python",
   "name": "python",
   "nbconvert_exporter": "python",
   "pygments_lexer": "ipython3",
   "version": "3.8.3"
  }
 },
 "nbformat": 4,
 "nbformat_minor": 4
}
